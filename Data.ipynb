{
 "cells": [
  {
   "cell_type": "markdown",
   "metadata": {},
   "source": [
    "### Data"
   ]
  },
  {
   "cell_type": "markdown",
   "metadata": {},
   "source": [
    "First we want to find out all different types of restaurants in Manahatton. Then lets categorise them to each neighbourhood and either vegetarian or non-vegetarian. This will give us the current spread of restaurants and the ratio of vegetarian versus non-vegetarian.\n",
    "\n",
    "Then lets see how widely vegetarian restaurants are spread in Manhatton. If there are not many it may suggest that vegetarian restaurants are not a viable option in Manhatton. If we see some pocekets of Vegetarian restaurants then we can explore further to fnd an area where opening another vegetarian restaurant will be a viable option.\n",
    "\n",
    "\n",
    "    number of existing restaurants in the neighborhood (any type of restaurant)\n",
    "    number of and distance to Italian restaurants in the neighborhood, if any\n",
    "    distance of neighborhood from city center\n",
    "\n",
    "We decided to use regularly spaced grid of locations, centered around city center, to define our neighborhoods.\n",
    "\n",
    "Following data sources will be needed to extract/generate the required information:\n",
    "\n",
    "    centers of candidate areas will be generated algorithmically and approximate addresses of centers of those areas will be obtained using Google Maps API reverse geocoding\n",
    "    number of restaurants and their type and location in every neighborhood will be obtained using Foursquare API\n",
    "    coordinate of Berlin center will be obtained using Google Maps API geocoding of well known Berlin location (Alexanderplatz)\n",
    "\n"
   ]
  }
 ],
 "metadata": {
  "kernelspec": {
   "display_name": "Python 3",
   "language": "python",
   "name": "python3"
  },
  "language_info": {
   "codemirror_mode": {
    "name": "ipython",
    "version": 3
   },
   "file_extension": ".py",
   "mimetype": "text/x-python",
   "name": "python",
   "nbconvert_exporter": "python",
   "pygments_lexer": "ipython3",
   "version": "3.7.1"
  }
 },
 "nbformat": 4,
 "nbformat_minor": 2
}
