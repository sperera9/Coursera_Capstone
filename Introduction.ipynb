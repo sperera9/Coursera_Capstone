{
 "cells": [
  {
   "cell_type": "markdown",
   "metadata": {},
   "source": [
    "### Introduction"
   ]
  },
  {
   "cell_type": "markdown",
   "metadata": {},
   "source": [
    "#### Does it make sense to open a vegetarian restaurant in Manhatton, New York?\n",
    "\n",
    "Lets explore how many vegetarian restaurants in Manhatton, New York. What are the ratio of Vegetarian restaurant to other restaurants in different areas of Manhatton. Does it make sesnse to open a vegetarian restaurant in Manahatton? If yes, what are possible hot sopts to open one? \n",
    "\n",
    "In thos project, lets exmaine all of the above aspects using the data from Four Squares and come with a reccomendation of a place to open a vegetarian restaurant or drop the idea. "
   ]
  },
  {
   "cell_type": "code",
   "execution_count": null,
   "metadata": {},
   "outputs": [],
   "source": []
  }
 ],
 "metadata": {
  "kernelspec": {
   "display_name": "Python 3",
   "language": "python",
   "name": "python3"
  },
  "language_info": {
   "codemirror_mode": {
    "name": "ipython",
    "version": 3
   },
   "file_extension": ".py",
   "mimetype": "text/x-python",
   "name": "python",
   "nbconvert_exporter": "python",
   "pygments_lexer": "ipython3",
   "version": "3.7.1"
  }
 },
 "nbformat": 4,
 "nbformat_minor": 2
}
