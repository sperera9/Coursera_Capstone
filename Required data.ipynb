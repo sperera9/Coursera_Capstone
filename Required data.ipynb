{
 "cells": [
  {
   "cell_type": "markdown",
   "metadata": {},
   "source": [
    "### Data"
   ]
  },
  {
   "cell_type": "markdown",
   "metadata": {},
   "source": [
    "First we want to find out all different types of restaurants in Manahatton. Then lets categorise them to each neighbourhood and either vegetarian or non-vegetarian. This will give us the current spread of restaurants and the ratio of vegetarian versus non-vegetarian.\n",
    "\n",
    "Then lets see how widely vegetarian restaurants are spread in Manhatton. If there are not many it may suggest that vegetarian restaurants are not a viable option in Manhatton. If we see some pocekets of Vegetarian restaurants then we can explore further to fnd an area where opening another vegetarian restaurant will be a viable option."
   ]
  },
  {
   "cell_type": "code",
   "execution_count": null,
   "metadata": {},
   "outputs": [],
   "source": []
  }
 ],
 "metadata": {
  "kernelspec": {
   "display_name": "Python 3",
   "language": "python",
   "name": "python3"
  },
  "language_info": {
   "codemirror_mode": {
    "name": "ipython",
    "version": 3
   },
   "file_extension": ".py",
   "mimetype": "text/x-python",
   "name": "python",
   "nbconvert_exporter": "python",
   "pygments_lexer": "ipython3",
   "version": "3.7.1"
  }
 },
 "nbformat": 4,
 "nbformat_minor": 2
}
